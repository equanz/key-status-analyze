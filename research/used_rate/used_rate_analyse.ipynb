{
 "cells": [
  {
   "cell_type": "markdown",
   "metadata": {},
   "source": [
    "# 概要\n",
    "- サーバー室の使用率を鍵の開閉の統計結果を用いて表す。"
   ]
  },
  {
   "cell_type": "markdown",
   "metadata": {},
   "source": [
    "## 日付による使用率"
   ]
  },
  {
   "cell_type": "code",
   "execution_count": 99,
   "metadata": {},
   "outputs": [
    {
     "name": "stdin",
     "output_type": "stream",
     "text": [
      ">> 2018\n",
      ">> 08\n"
     ]
    },
    {
     "name": "stdout",
     "output_type": "stream",
     "text": [
      "61.29032258064516\n"
     ]
    }
   ],
   "source": [
    "# UTF-8\n",
    "import csv\n",
    "from calendar import Calendar\n",
    "\n",
    "\n",
    "def utilization_by_date():\n",
    "    year = input(\">>\")\n",
    "    month = input(\">>\")\n",
    "    count = 0\n",
    "    csv_file = open(\"./key_info_20181102.csv\", \"r\")\n",
    "    cl = Calendar(firstweekday=6)\n",
    "    cl_list = list(cl.itermonthdays(int(year), int(month)))\n",
    "    cl_list = [cll for cll in cl_list if cll != 0]\n",
    "    dic_csv = csv.DictReader(\n",
    "        csv_file, \n",
    "        delimiter=\",\", \n",
    "        doublequote=True,\n",
    "        lineterminator=\"\\r\\n\", \n",
    "        quotechar='\"',\n",
    "        skipinitialspace=True\n",
    "    )\n",
    "    for row in dic_csv:\n",
    "        if row[\"state\"] == \"ON\" and year+\"-\"+month+\"-\" in row[\"time\"]:\n",
    "            count += 1\n",
    "    print((count/len(cl_list))*100)\n",
    "    \n",
    "if __name__ == '__main__':\n",
    "    utilization_by_date()"
   ]
  },
  {
   "cell_type": "markdown",
   "metadata": {},
   "source": [
    "### calendarモジュールのテスト"
   ]
  },
  {
   "cell_type": "code",
   "execution_count": 47,
   "metadata": {},
   "outputs": [
    {
     "name": "stdin",
     "output_type": "stream",
     "text": [
      ">> 2018\n",
      ">> 6\n"
     ]
    },
    {
     "name": "stdout",
     "output_type": "stream",
     "text": [
      "[1, 2, 3, 4, 5, 6, 7, 8, 9, 10, 11, 12, 13, 14, 15, 16, 17, 18, 19, 20, 21, 22, 23, 24, 25, 26, 27, 28, 29, 30]\n"
     ]
    }
   ],
   "source": [
    "# UTF-8\n",
    "from calendar import Calendar\n",
    "year = int(input(\">>\"))\n",
    "month = int(input(\">>\"))\n",
    "\n",
    "cl = Calendar(firstweekday=6)\n",
    "cl_list = list(cl.itermonthdays(year, month))\n",
    "cl_list = [cll for cll in cl_list if cll != 0]\n",
    "print(cl_list2)"
   ]
  },
  {
   "cell_type": "markdown",
   "metadata": {},
   "source": [
    "## 時間による使用率"
   ]
  },
  {
   "cell_type": "code",
   "execution_count": 102,
   "metadata": {},
   "outputs": [
    {
     "name": "stdout",
     "output_type": "stream",
     "text": [
      "0.0\n",
      "0.0\n",
      "0.0\n",
      "0.0\n",
      "0.009552188552188551\n",
      "0.12556986531986533\n",
      "0.1390361952861953\n",
      "0.25146632996632995\n",
      "0.2848981481481481\n",
      "0.2948341750841751\n",
      "0.01799915824915825\n",
      "0.0\n"
     ]
    }
   ],
   "source": [
    "# UTF-8\n",
    "import csv\n",
    "import datetime\n",
    "import calendar\n",
    "\n",
    "def utilization_by_time():\n",
    "    onlist, offlist = [], []\n",
    "    csv_file = open(\"./key_info_20181102.csv\", \"r\")\n",
    "    dic_csv = csv.DictReader(\n",
    "        csv_file, \n",
    "        delimiter=\",\", \n",
    "        doublequote=True,\n",
    "        lineterminator=\"\\r\\n\", \n",
    "        quotechar='\"',\n",
    "        skipinitialspace=True\n",
    "    )\n",
    "    \n",
    "    for row in dic_csv:\n",
    "        if row['state'] == 'ON':\n",
    "            ondatetime = datetime.datetime.strptime(row['time']+'00', '%Y-%m-%d %H:%M:%S%z')\n",
    "            onlist.append(ondatetime)\n",
    "        elif row['state'] == 'OFF':\n",
    "            offdatetime = datetime.datetime.strptime(row['time']+'00', '%Y-%m-%d %H:%M:%S%z')\n",
    "            offlist.append(offdatetime)\n",
    "    \n",
    "    ut_list = []\n",
    "    for i in range(1, 13):\n",
    "        utilization_time = 0\n",
    "        for on, off in zip(onlist, offlist):\n",
    "            if on.month == i:\n",
    "                utilization_time = utilization_time + (off-on).total_seconds()\n",
    "        ut_list.append(utilization_time)\n",
    "            \n",
    "    for ul in ut_list:\n",
    "        rate = ul / (calendar.monthrange(on.year, off.month)[1]*11*60*60)\n",
    "        if rate <= 1:\n",
    "            print(rate)\n",
    "    \n",
    "if __name__ == '__main__':\n",
    "    utilization_by_time()"
   ]
  },
  {
   "cell_type": "markdown",
   "metadata": {},
   "source": [
    "### datetimeのテスト"
   ]
  },
  {
   "cell_type": "code",
   "execution_count": 62,
   "metadata": {},
   "outputs": [
    {
     "name": "stdout",
     "output_type": "stream",
     "text": [
      "2012-12-29 13:49:37+00:00\n",
      "(1, 4)\n",
      "(2, 5)\n"
     ]
    }
   ],
   "source": [
    "import datetime\n",
    "\n",
    "tstr = '2012-12-29 13:49:37+0000'\n",
    "#jst_time = parser.parse(tstr).astimezone(timezone('Asia/Tokyo'))\n",
    "tdatetime = datetime.datetime.strptime(tstr, '%Y-%m-%d %H:%M:%S%z')\n",
    "\n",
    "print(tdatetime)\n",
    "\n",
    "\n",
    "hoge = [1, 2, 3]\n",
    "fuga = [4, 5]\n",
    "\n",
    "for data in zip(hoge, fuga):\n",
    "    print(data)"
   ]
  }
 ],
 "metadata": {
  "kernelspec": {
   "display_name": "Python 3",
   "language": "python",
   "name": "python3"
  },
  "language_info": {
   "codemirror_mode": {
    "name": "ipython",
    "version": 3
   },
   "file_extension": ".py",
   "mimetype": "text/x-python",
   "name": "python",
   "nbconvert_exporter": "python",
   "pygments_lexer": "ipython3",
   "version": "3.6.1"
  }
 },
 "nbformat": 4,
 "nbformat_minor": 2
}
