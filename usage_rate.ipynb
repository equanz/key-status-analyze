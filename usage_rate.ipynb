{
 "cells": [
  {
   "cell_type": "markdown",
   "metadata": {},
   "source": [
    "# Summary\n",
    "- サーバー室の使用率を鍵の開閉の統計結果を用いて表す。"
   ]
  },
  {
   "cell_type": "code",
   "execution_count": 52,
   "metadata": {},
   "outputs": [
    {
     "name": "stdin",
     "output_type": "stream",
     "text": [
      ">> 2018\n",
      ">> 06\n"
     ]
    },
    {
     "name": "stdout",
     "output_type": "stream",
     "text": [
      "43.333333333333336\n"
     ]
    }
   ],
   "source": [
    "# UTF-8\n",
    "import csv\n",
    "from calendar import Calendar\n",
    "\n",
    "\n",
    "def main():\n",
    "    year = input(\">>\")\n",
    "    month = input(\">>\")\n",
    "    count = 0\n",
    "    csv_file = open(\"./key_info_20181102.csv\", \"r\")\n",
    "    cl = Calendar(firstweekday=6)\n",
    "    cl_list = list(cl.itermonthdays(int(year), int(month)))\n",
    "    cl_list = [cll for cll in cl_list if cll != 0]\n",
    "    dic_csv = csv.DictReader(\n",
    "        csv_file, \n",
    "        delimiter=\",\", \n",
    "        doublequote=True,\n",
    "        lineterminator=\"\\r\\n\", \n",
    "        quotechar='\"',\n",
    "        skipinitialspace=True\n",
    "    )\n",
    "    for row in dic_csv:\n",
    "        if row[\"state\"] == \"ON\" and year+\"-\"+month+\"-\" in row[\"time\"]:\n",
    "            count += 1\n",
    "    print((count/len(cl_list))*100)\n",
    "    \n",
    "if __name__ == '__main__':\n",
    "    main()"
   ]
  },
  {
   "cell_type": "markdown",
   "metadata": {},
   "source": [
    "### Pythonのcalendarモジュールのテスト"
   ]
  },
  {
   "cell_type": "code",
   "execution_count": 47,
   "metadata": {},
   "outputs": [
    {
     "name": "stdin",
     "output_type": "stream",
     "text": [
      ">> 2018\n",
      ">> 6\n"
     ]
    },
    {
     "name": "stdout",
     "output_type": "stream",
     "text": [
      "[1, 2, 3, 4, 5, 6, 7, 8, 9, 10, 11, 12, 13, 14, 15, 16, 17, 18, 19, 20, 21, 22, 23, 24, 25, 26, 27, 28, 29, 30]\n"
     ]
    }
   ],
   "source": [
    "# UTF-8\n",
    "from calendar import Calendar\n",
    "year = int(input(\">>\"))\n",
    "month = int(input(\">>\"))\n",
    "\n",
    "cl = Calendar(firstweekday=6)\n",
    "cl_list = list(cl.itermonthdays(year, month))\n",
    "cl_list = [cll for cll in cl_list if cll != 0]\n",
    "print(cl_list2)"
   ]
  },
  {
   "cell_type": "code",
   "execution_count": null,
   "metadata": {},
   "outputs": [],
   "source": []
  }
 ],
 "metadata": {
  "kernelspec": {
   "display_name": "Python 3",
   "language": "python",
   "name": "python3"
  },
  "language_info": {
   "codemirror_mode": {
    "name": "ipython",
    "version": 3
   },
   "file_extension": ".py",
   "mimetype": "text/x-python",
   "name": "python",
   "nbconvert_exporter": "python",
   "pygments_lexer": "ipython3",
   "version": "3.6.1"
  }
 },
 "nbformat": 4,
 "nbformat_minor": 2
}
