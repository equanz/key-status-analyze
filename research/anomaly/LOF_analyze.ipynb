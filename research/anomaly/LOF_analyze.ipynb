{
 "cells": [
  {
   "cell_type": "markdown",
   "metadata": {},
   "source": [
    "# 概要\n",
    "鍵ステータス情報の異常値検出がメインタスク．  \n",
    "ここでは，$k$-means法により鍵ステータス情報をクラスタリングする．"
   ]
  },
  {
   "cell_type": "markdown",
   "metadata": {},
   "source": [
    "## KDD Cup 1999(SMTP)のデータを用いたテスト\n",
    "### 実装"
   ]
  },
  {
   "cell_type": "code",
   "execution_count": 16,
   "metadata": {},
   "outputs": [
    {
     "data": {
      "image/png": "[encoded data removed]",
      "text/plain": [
       "<matplotlib.figure.Figure at 0x1074c6080>"
      ]
     },
     "metadata": {},
     "output_type": "display_data"
    }
   ],
   "source": [
    "from sklearn.neighbors import LocalOutlierFactor\n",
    "from sklearn.datasets import fetch_kddcup99\n",
    "from sklearn.decomposition import PCA\n",
    "import matplotlib.pyplot as plt\n",
    "import numpy as np\n",
    "\n",
    "# change plt style\n",
    "plt.style.use(\"dark_background\")\n",
    "\n",
    "# load datasets\n",
    "kdd_datasets = fetch_kddcup99(subset=\"smtp\")\n",
    "# dim reduction by PCA\n",
    "pca = PCA(n_components=2)\n",
    "X = pca.fit_transform(kdd_datasets.data)\n",
    "\n",
    "# fit and predict by LOF\n",
    "lof = LocalOutlierFactor().fit_predict(X)\n",
    "\n",
    "# plot predict data\n",
    "normal_predict = X[lof == 1]\n",
    "anomal_predict = X[lof == -1]\n",
    "plt.scatter(normal_predict[:, 0], normal_predict[:, 1])\n",
    "plt.scatter(anomal_predict[:, 0], anomal_predict[:, 1], color=\"r\")\n",
    "\n",
    "plt.legend()\n",
    "plt.show()"
   ]
  },
  {
   "cell_type": "markdown",
   "metadata": {},
   "source": [
    "### ここまでの考察\n",
    "ガウス分布を元に閾値を定める手法ではないため，グラフ左側の密度の小さい分布でも正常と検出されていることがわかる．  \n",
    "手法がLOFであるため当然とも言える．"
   ]
  },
  {
   "cell_type": "markdown",
   "metadata": {},
   "source": [
    "## 鍵情報を用いたテスト\n",
    "### 方針\n",
    "ON/OFFをひとつのデータセットとして取り扱うとしても，異なる分布で正常な検出ができると想定できる．  \n",
    "ただし，効果の違いを見る必要があると思われる．\n",
    "\n",
    "特徴量を下記に設定する．  \n",
    "* イベント month\n",
    "* イベント day\n",
    "* イベント week\n",
    "* イベント hour\n",
    "\n",
    "### 実装"
   ]
  },
  {
   "cell_type": "markdown",
   "metadata": {},
   "source": [
    "#### データ加工"
   ]
  },
  {
   "cell_type": "code",
   "execution_count": 73,
   "metadata": {},
   "outputs": [
    {
     "name": "stdout",
     "output_type": "stream",
     "text": [
      "<class 'pandas.core.frame.DataFrame'>\n",
      "0      0\n",
      "1      1\n",
      "2      0\n",
      "3      1\n",
      "4      0\n",
      "5      1\n",
      "6      0\n",
      "7      1\n",
      "8      0\n",
      "9      1\n",
      "10     0\n",
      "11     1\n",
      "12     0\n",
      "13     1\n",
      "14     0\n",
      "15     1\n",
      "16     0\n",
      "17     1\n",
      "18     0\n",
      "19     1\n",
      "20     0\n",
      "21     1\n",
      "22     0\n",
      "23     1\n",
      "24     0\n",
      "25     1\n",
      "26     0\n",
      "27     1\n",
      "28     0\n",
      "29     1\n",
      "      ..\n",
      "147    1\n",
      "148    0\n",
      "149    1\n",
      "150    0\n",
      "151    1\n",
      "152    0\n",
      "153    1\n",
      "154    0\n",
      "155    1\n",
      "156    0\n",
      "157    1\n",
      "158    0\n",
      "159    1\n",
      "160    0\n",
      "161    1\n",
      "162    0\n",
      "163    1\n",
      "164    0\n",
      "165    1\n",
      "166    0\n",
      "167    1\n",
      "168    0\n",
      "169    1\n",
      "170    0\n",
      "171    1\n",
      "172    0\n",
      "173    1\n",
      "174    0\n",
      "175    1\n",
      "176    0\n",
      "Name: OFF, Length: 177, dtype: uint8\n"
     ]
    }
   ],
   "source": [
    "from sklearn.cluster import KMeans\n",
    "import matplotlib.pyplot as plt\n",
    "import pandas as pd\n",
    "import numpy as np\n",
    "\n",
    "# const val\n",
    "ISO_DATE_LEN = 24\n",
    "\n",
    "# change plt style\n",
    "plt.style.use(\"dark_background\")\n",
    "\n",
    "# load datasets\n",
    "df = pd.read_csv(\"./key_info_20181102_anomaly.csv\")\n",
    "# convert str(ISO 8601 format) to datetime and convert timezone UTC to Asia/Tokyo\n",
    "df[\"time\"] = df[\"time\"].str.ljust(ISO_DATE_LEN, \"0\")\n",
    "df[\"time\"] = pd.to_datetime(df[\"time\"]).dt.tz_localize(tz=\"UTC\").dt.tz_convert(tz=\"Asia/Tokyo\")\n",
    "\n",
    "# make column\n",
    "df[\"month\"] = df[\"time\"].dt.month\n",
    "df[\"day\"] = df[\"time\"].dt.day\n",
    "df[\"week\"] = df[\"time\"].dt.weekday\n",
    "df[\"hour\"] = df[\"time\"].dt.hour\n",
    "df = pd.concat([df, pd.get_dummies(df[\"state\"])], axis=1) # get state's dummy\n",
    "\n",
    "# to ndarray\n",
    "X_on = df[df[\"state\"].str.match(\"ON\")][[\"month\", \"day\", \"week\", \"hour\"]].values\n",
    "y_on = df[df[\"state\"].str.match(\"ON\")][[\"is_anomal\"]].values\n",
    "X_off = df[df[\"state\"].str.match(\"OFF\")][[\"month\", \"day\", \"week\", \"hour\"]].values\n",
    "y_off = df[df[\"state\"].str.match(\"OFF\")][[\"is_anomal\"]].values"
   ]
  },
  {
   "cell_type": "markdown",
   "metadata": {},
   "source": [
    "#### LOFによる異常検知\n",
    "まずは，ON/OFFを分割して効果を見る"
   ]
  },
  {
   "cell_type": "code",
   "execution_count": 54,
   "metadata": {},
   "outputs": [
    {
     "data": {
      "image/png": "[encoded data removed]",
      "text/plain": [
       "<matplotlib.figure.Figure at 0x10b267c18>"
      ]
     },
     "metadata": {},
     "output_type": "display_data"
    },
    {
     "data": {
      "image/png": "[encoded data removed]",
      "text/plain": [
       "<matplotlib.figure.Figure at 0x10f5d6c88>"
      ]
     },
     "metadata": {},
     "output_type": "display_data"
    },
    {
     "name": "stdout",
     "output_type": "stream",
     "text": [
      "f1 score (ON): 0.35294117647058826\n"
     ]
    }
   ],
   "source": [
    "from sklearn.metrics import f1_score\n",
    "\n",
    "# fit and predict by LOF\n",
    "lof = LocalOutlierFactor().fit_predict(X_on)\n",
    "\n",
    "# plot predict data\n",
    "normal_predict = X_on[lof == 1]\n",
    "anomal_predict = X_on[lof == -1]\n",
    "plt.scatter(normal_predict[:, 2], normal_predict[:, 3], color=\"c\")\n",
    "plt.scatter(anomal_predict[:, 2], anomal_predict[:, 3], color=\"r\")\n",
    "\n",
    "plt.title(\"week-hour predict (ON)\")\n",
    "plt.legend()\n",
    "plt.show()\n",
    "\n",
    "# plot answer data\n",
    "X_on_normal = X_on[y_on[:, 0] == False]\n",
    "X_on_anomal = X_on[y_on[:, 0] == True]\n",
    "plt.scatter(X_on_normal[:, 2], X_on_normal[:, 3], color=\"c\")\n",
    "plt.scatter(X_on_anomal[:, 2], X_on_anomal[:, 3], color=\"r\")\n",
    "plt.title(\"week-hour answer (ON)\")\n",
    "plt.legend()\n",
    "plt.show()\n",
    "\n",
    "# calc f1 score\n",
    "y_true = y_on[:, 0] == True\n",
    "y_pred = lof == -1\n",
    "f1_value = f1_score(y_true, y_pred)\n",
    "print(\"f1 score (ON): \" + str(f1_value))"
   ]
  },
  {
   "cell_type": "code",
   "execution_count": 55,
   "metadata": {},
   "outputs": [
    {
     "data": {
      "image/png": "[encoded data removed]",
      "text/plain": [
       "<matplotlib.figure.Figure at 0x10a94eef0>"
      ]
     },
     "metadata": {},
     "output_type": "display_data"
    },
    {
     "data": {
      "image/png": "[encoded data removed]",
      "text/plain": [
       "<matplotlib.figure.Figure at 0x1120ba550>"
      ]
     },
     "metadata": {},
     "output_type": "display_data"
    },
    {
     "name": "stdout",
     "output_type": "stream",
     "text": [
      "f1 score (OFF): 0.18181818181818185\n"
     ]
    }
   ],
   "source": [
    "from sklearn.metrics import f1_score\n",
    "\n",
    "# fit and predict by LOF\n",
    "lof = LocalOutlierFactor().fit_predict(X_off)\n",
    "\n",
    "# plot predict data\n",
    "normal_predict = X_off[lof == 1]\n",
    "anomal_predict = X_off[lof == -1]\n",
    "plt.scatter(normal_predict[:, 2], normal_predict[:, 3], color=\"c\")\n",
    "plt.scatter(anomal_predict[:, 2], anomal_predict[:, 3], color=\"r\")\n",
    "\n",
    "plt.title(\"week-hour predict (OFF)\")\n",
    "plt.legend()\n",
    "plt.show()\n",
    "\n",
    "# plot answer data\n",
    "X_off_normal = X_off[y_off[:, 0] == False]\n",
    "X_off_anomal = X_off[y_off[:, 0] == True]\n",
    "plt.scatter(X_off_normal[:, 2], X_off_normal[:, 3], color=\"c\")\n",
    "plt.scatter(X_off_anomal[:, 2], X_off_anomal[:, 3], color=\"r\")\n",
    "plt.title(\"week-hour answer (OFF)\")\n",
    "plt.legend()\n",
    "plt.show()\n",
    "\n",
    "# calc f1 score\n",
    "y_true = y_off[:, 0] == True\n",
    "y_pred = lof == -1\n",
    "f1_value = f1_score(y_true, y_pred)\n",
    "print(\"f1 score (OFF): \" + str(f1_value))"
   ]
  },
  {
   "cell_type": "markdown",
   "metadata": {},
   "source": [
    "ON, OFFをあわせてテスト  \n",
    "このとき，要素を1つ追加してON/OFFの情報を付与"
   ]
  },
  {
   "cell_type": "code",
   "execution_count": 74,
   "metadata": {},
   "outputs": [
    {
     "data": {
      "image/png": "[encoded data removed]",
      "text/plain": [
       "<matplotlib.figure.Figure at 0x10f5ee4e0>"
      ]
     },
     "metadata": {},
     "output_type": "display_data"
    },
    {
     "data": {
      "image/png": "[encoded data removed]",
      "text/plain": [
       "<matplotlib.figure.Figure at 0x110564e48>"
      ]
     },
     "metadata": {},
     "output_type": "display_data"
    },
    {
     "name": "stdout",
     "output_type": "stream",
     "text": [
      "f1 score (joint): 0.30769230769230765\n"
     ]
    }
   ],
   "source": [
    "from sklearn.metrics import f1_score\n",
    "\n",
    "# joint X datasets\n",
    "X_joint = df[[\"month\", \"day\", \"week\", \"hour\", \"ON\"]].values\n",
    "y_joint = df[[\"is_anomal\"]].values\n",
    "\n",
    "# fit and predict by LOF\n",
    "lof = LocalOutlierFactor().fit_predict(X_joint)\n",
    "\n",
    "# plot predict data\n",
    "normal_predict = X_joint[lof == 1]\n",
    "anomal_predict = X_joint[lof == -1]\n",
    "plt.scatter(normal_predict[:, 2], normal_predict[:, 3], color=\"c\")\n",
    "plt.scatter(anomal_predict[:, 2], anomal_predict[:, 3], color=\"r\")\n",
    "\n",
    "plt.title(\"week-hour predict (joint)\")\n",
    "plt.legend()\n",
    "plt.show()\n",
    "\n",
    "# plot answer data\n",
    "X_joint_normal = X_joint[y_joint[:, 0] == False]\n",
    "X_joint_anomal = X_joint[y_joint[:, 0] == True]\n",
    "plt.scatter(X_joint_normal[:, 2], X_joint_normal[:, 3], color=\"c\")\n",
    "plt.scatter(X_joint_anomal[:, 2], X_joint_anomal[:, 3], color=\"r\")\n",
    "plt.title(\"week-hour answer (joint)\")\n",
    "plt.legend()\n",
    "plt.show()\n",
    "\n",
    "# calc f1 score\n",
    "y_true = y_joint[:, 0] == True\n",
    "y_pred = lof == -1\n",
    "f1_value = f1_score(y_true, y_pred)\n",
    "print(\"f1 score (joint): \" + str(f1_value))"
   ]
  },
  {
   "cell_type": "markdown",
   "metadata": {},
   "source": [
    "### ここまでの考察\n",
    "ステータスがoffのときやたらF値が低い．  \n",
    "なぜなのかを検証して見る必要がある．"
   ]
  },
  {
   "cell_type": "markdown",
   "metadata": {},
   "source": [
    "### 異常検知した値の表示\n",
    "それぞれで異常検知した時のデータを表示する．  \n",
    "目視で問題がないか検討する．"
   ]
  },
  {
   "cell_type": "code",
   "execution_count": 91,
   "metadata": {},
   "outputs": [
    {
     "name": "stdout",
     "output_type": "stream",
     "text": [
      "on\n",
      "   month  day  week  hour\n",
      "0      5   29     1    15\n",
      "1      8   22     2     7\n",
      "2      8   22     2     7\n",
      "3      8   23     3     8\n",
      "4      8   30     3    19\n",
      "5      9    2     6     9\n",
      "6     10    9     1    21\n",
      "7     10   31     2    17\n",
      "8     11    1     3     8\n",
      "off\n",
      "   month  day  week  hour\n",
      "0      8   20     0     7\n",
      "1      8   22     2     7\n",
      "2      8   23     3     8\n",
      "3      8   31     4     0\n",
      "4      9   14     4    10\n",
      "5      9   15     5    11\n",
      "6     10   30     1    23\n",
      "7     10   31     2    23\n",
      "8     11    1     3    10\n",
      "joint\n",
      "    month  day  week  hour  ON\n",
      "1       8   22     2     7   1\n",
      "3       8   22     2     7   1\n",
      "4       8   23     3     8   1\n",
      "6       8   23     3     9   1\n",
      "8       9    2     6     9   1\n",
      "9       9    5     2    10   1\n",
      "10      9    6     3     8   1\n",
      "11     10    6     5    11   1\n",
      "15     11    1     3     8   1\n",
      "    month  day  week  hour  ON\n",
      "0       8   20     0     7   0\n",
      "2       8   22     2     7   0\n",
      "5       8   23     3     8   0\n",
      "7       8   31     4     0   0\n",
      "12     10   29     0    22   0\n",
      "13     10   30     1    23   0\n",
      "14     10   31     2    23   0\n",
      "16     11    1     3    10   0\n",
      "17     11    1     3    22   0\n",
      "answer\n",
      "     month  day  week  hour  ON\n",
      "82       8   22     2     7   1\n",
      "90       8   30     3    19   1\n",
      "96       9    6     3     8   1\n",
      "116      9   25     1    15   1\n",
      "126     10    4     3    14   1\n",
      "138     10   10     2    15   1\n",
      "162     10   25     3    16   1\n",
      "170     10   31     2    17   1\n",
      "     month  day  week  hour  ON\n",
      "79       8   21     1    21   0\n",
      "83       8   22     2    22   0\n",
      "91       8   31     4     0   0\n",
      "129     10    5     4    20   0\n",
      "143     10   16     1    22   0\n",
      "145     10   17     2    22   0\n",
      "149     10   18     3    20   0\n",
      "155     10   19     4    22   0\n",
      "159     10   23     1    22   0\n",
      "165     10   26     4    22   0\n",
      "167     10   29     0    22   0\n",
      "171     10   31     2    23   0\n",
      "175     11    1     3    22   0\n"
     ]
    },
    {
     "name": "stderr",
     "output_type": "stream",
     "text": [
      "/Users/equanz/.pyenv/versions/3.5.2/lib/python3.5/site-packages/ipykernel_launcher.py:22: UserWarning: Boolean Series key will be reindexed to match DataFrame index.\n",
      "/Users/equanz/.pyenv/versions/3.5.2/lib/python3.5/site-packages/ipykernel_launcher.py:23: UserWarning: Boolean Series key will be reindexed to match DataFrame index.\n"
     ]
    }
   ],
   "source": [
    "# on predict\n",
    "lof = LocalOutlierFactor().fit_predict(X_on)\n",
    "anomal_on_df = pd.DataFrame(X_on[lof == -1], columns=[\"month\", \"day\", \"week\", \"hour\"])\n",
    "print(\"on\")\n",
    "print(anomal_on_df)\n",
    "\n",
    "# off predict\n",
    "lof = LocalOutlierFactor().fit_predict(X_off)\n",
    "anomal_off_df = pd.DataFrame(X_off[lof == -1], columns=[\"month\", \"day\", \"week\", \"hour\"])\n",
    "print(\"off\")\n",
    "print(anomal_off_df)\n",
    "\n",
    "# join predict\n",
    "lof = LocalOutlierFactor().fit_predict(X_joint)\n",
    "anomal_joint_df = pd.DataFrame(X_joint[lof == -1], columns=[\"month\", \"day\", \"week\", \"hour\", \"ON\"])\n",
    "print(\"joint\")\n",
    "print(anomal_joint_df[anomal_joint_df[\"ON\"] == 1])\n",
    "print(anomal_joint_df[anomal_joint_df[\"ON\"] == 0])\n",
    "\n",
    "# answer\n",
    "print(\"answer\")\n",
    "print(df[df[\"is_anomal\"] == 1][df[\"ON\"] == 1][[\"month\", \"day\", \"week\", \"hour\", \"ON\"]])\n",
    "print(df[df[\"is_anomal\"] == 1][df[\"ON\"] == 0][[\"month\", \"day\", \"week\", \"hour\", \"ON\"]])"
   ]
  },
  {
   "cell_type": "markdown",
   "metadata": {},
   "source": [
    "### ここまでの考察\n",
    "offのとき，正解データは，残業を異常としている傾向がある．  \n",
    "また，予測値は早朝を主に捉えている傾向にある．\n",
    "\n",
    "ここから，残業はデータとしては異常値でないという興味深い考察が得られる．  \n",
    "本当に予測するならば，分類問題として教師あり学習するほうが良いと思われる．"
   ]
  },
  {
   "cell_type": "code",
   "execution_count": null,
   "metadata": {},
   "outputs": [],
   "source": []
  }
 ],
 "metadata": {
  "kernelspec": {
   "display_name": "Python 3",
   "language": "python",
   "name": "python3"
  },
  "language_info": {
   "codemirror_mode": {
    "name": "ipython",
    "version": 3
   },
   "file_extension": ".py",
   "mimetype": "text/x-python",
   "name": "python",
   "nbconvert_exporter": "python",
   "pygments_lexer": "ipython3",
   "version": "3.5.2"
  }
 },
 "nbformat": 4,
 "nbformat_minor": 2
}
